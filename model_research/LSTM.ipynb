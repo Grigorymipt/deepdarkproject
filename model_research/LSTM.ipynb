{
  "nbformat": 4,
  "nbformat_minor": 0,
  "metadata": {
    "colab": {
      "provenance": []
    },
    "kernelspec": {
      "name": "python3",
      "display_name": "Python 3"
    },
    "language_info": {
      "name": "python"
    }
  },
  "cells": [
    {
      "cell_type": "markdown",
      "source": [
        "# A foray into LSTM encoding\n",
        "\n",
        "Another way of extracting vector representations from text is by using the hidden state of an LSTM RNN\n",
        "\n",
        "It has several potential advantages:\n",
        "- Works much faster, uses much less memory\n",
        "- Said to excel at infering dependences on small datasets\n",
        "- Naturally supports variable-length input (operates on sequences)\n",
        "\n",
        "**Here**, we attempt (and fail) to fine-tune the [navec](https://github.com/natasha/navec) word embeddings on the provided files, and use them to generate per-section sequence embeddings, which we compare in both the cosine-similarity and clustering approaches"
      ],
      "metadata": {
        "id": "y4qHMMZf2Swy"
      }
    },
    {
      "cell_type": "markdown",
      "source": [
        "## Loading natasha toolkit\n",
        "\n",
        "This includes pretrained embeddings, a tokenizer and a custom torch layer"
      ],
      "metadata": {
        "id": "DsD-m4LAbWKl"
      }
    },
    {
      "cell_type": "code",
      "source": [
        "!pip install slovnet"
      ],
      "metadata": {
        "colab": {
          "base_uri": "https://localhost:8080/"
        },
        "id": "m90tPrw0aSoT",
        "outputId": "1b6baffe-3e2c-4b2b-db0b-b70d39a9636d"
      },
      "execution_count": 1,
      "outputs": [
        {
          "output_type": "stream",
          "name": "stdout",
          "text": [
            "Collecting slovnet\n",
            "  Downloading slovnet-0.6.0-py3-none-any.whl.metadata (34 kB)\n",
            "Requirement already satisfied: numpy in /usr/local/lib/python3.10/dist-packages (from slovnet) (1.26.4)\n",
            "Collecting razdel (from slovnet)\n",
            "  Downloading razdel-0.5.0-py3-none-any.whl.metadata (10.0 kB)\n",
            "Collecting navec (from slovnet)\n",
            "  Downloading navec-0.10.0-py3-none-any.whl.metadata (21 kB)\n",
            "Downloading slovnet-0.6.0-py3-none-any.whl (46 kB)\n",
            "\u001b[2K   \u001b[90m━━━━━━━━━━━━━━━━━━━━━━━━━━━━━━━━━━━━━━━━\u001b[0m \u001b[32m46.7/46.7 kB\u001b[0m \u001b[31m1.9 MB/s\u001b[0m eta \u001b[36m0:00:00\u001b[0m\n",
            "\u001b[?25hDownloading navec-0.10.0-py3-none-any.whl (23 kB)\n",
            "Downloading razdel-0.5.0-py3-none-any.whl (21 kB)\n",
            "Installing collected packages: razdel, navec, slovnet\n",
            "Successfully installed navec-0.10.0 razdel-0.5.0 slovnet-0.6.0\n"
          ]
        }
      ]
    },
    {
      "cell_type": "code",
      "source": [
        "!wget https://storage.yandexcloud.net/natasha-navec/packs/navec_hudlit_v1_12B_500K_300d_100q.tar"
      ],
      "metadata": {
        "colab": {
          "base_uri": "https://localhost:8080/"
        },
        "id": "2yIhs3GRamg3",
        "outputId": "5366f8d3-1fc0-4fca-8c95-04a91955b866"
      },
      "execution_count": 2,
      "outputs": [
        {
          "output_type": "stream",
          "name": "stdout",
          "text": [
            "--2024-10-31 17:44:25--  https://storage.yandexcloud.net/natasha-navec/packs/navec_hudlit_v1_12B_500K_300d_100q.tar\n",
            "Resolving storage.yandexcloud.net (storage.yandexcloud.net)... 213.180.193.243, 2a02:6b8::1d9\n",
            "Connecting to storage.yandexcloud.net (storage.yandexcloud.net)|213.180.193.243|:443... connected.\n",
            "HTTP request sent, awaiting response... 200 OK\n",
            "Length: 53012480 (51M) [application/x-tar]\n",
            "Saving to: ‘navec_hudlit_v1_12B_500K_300d_100q.tar’\n",
            "\n",
            "navec_hudlit_v1_12B 100%[===================>]  50.56M  16.0MB/s    in 3.7s    \n",
            "\n",
            "2024-10-31 17:44:29 (13.5 MB/s) - ‘navec_hudlit_v1_12B_500K_300d_100q.tar’ saved [53012480/53012480]\n",
            "\n"
          ]
        }
      ]
    },
    {
      "cell_type": "code",
      "source": [
        "import razdel # The tokenizer (in the old sense, a word segmenter)"
      ],
      "metadata": {
        "id": "Ik1k71Q_rjHj"
      },
      "execution_count": 8,
      "outputs": []
    },
    {
      "cell_type": "code",
      "source": [
        "list(razdel.tokenize('''Я вот что скажу: вообще не\n",
        "понятно, как можно не любить стволы родных берез? '''))"
      ],
      "metadata": {
        "colab": {
          "base_uri": "https://localhost:8080/"
        },
        "id": "Iil_1PgIrrHg",
        "outputId": "2ff666f0-1150-4c52-bba9-920ad6a44ea8"
      },
      "execution_count": 9,
      "outputs": [
        {
          "output_type": "execute_result",
          "data": {
            "text/plain": [
              "[Substring(0, 1, 'Я'),\n",
              " Substring(2, 5, 'вот'),\n",
              " Substring(6, 9, 'что'),\n",
              " Substring(10, 15, 'скажу'),\n",
              " Substring(15, 16, ':'),\n",
              " Substring(17, 23, 'вообще'),\n",
              " Substring(24, 26, 'не'),\n",
              " Substring(27, 34, 'понятно'),\n",
              " Substring(34, 35, ','),\n",
              " Substring(36, 39, 'как'),\n",
              " Substring(40, 45, 'можно'),\n",
              " Substring(46, 48, 'не'),\n",
              " Substring(49, 55, 'любить'),\n",
              " Substring(56, 62, 'стволы'),\n",
              " Substring(63, 69, 'родных'),\n",
              " Substring(70, 75, 'берез'),\n",
              " Substring(75, 76, '?')]"
            ]
          },
          "metadata": {},
          "execution_count": 9
        }
      ]
    },
    {
      "cell_type": "code",
      "source": [
        "# The embeddings\n",
        "from navec import Navec\n",
        "\n",
        "navec = Navec.load('navec_hudlit_v1_12B_500K_300d_100q.tar')"
      ],
      "metadata": {
        "id": "jqyfEk98a8EP"
      },
      "execution_count": 3,
      "outputs": []
    },
    {
      "cell_type": "code",
      "source": [
        "navec['кожевенник'].shape"
      ],
      "metadata": {
        "colab": {
          "base_uri": "https://localhost:8080/"
        },
        "id": "VZeDA6A-hRg3",
        "outputId": "216ab1f4-cbd5-4c2f-d5ca-7cbf4aa9d17a"
      },
      "execution_count": 4,
      "outputs": [
        {
          "output_type": "execute_result",
          "data": {
            "text/plain": [
              "(300,)"
            ]
          },
          "metadata": {},
          "execution_count": 4
        }
      ]
    },
    {
      "cell_type": "code",
      "source": [
        "# The proper tokenizer\n",
        "navec.vocab['кожевенник']"
      ],
      "metadata": {
        "colab": {
          "base_uri": "https://localhost:8080/"
        },
        "id": "GaaoFRsbs7_a",
        "outputId": "d3cf52a3-2870-451e-8893-6be05ccae7d4"
      },
      "execution_count": 10,
      "outputs": [
        {
          "output_type": "execute_result",
          "data": {
            "text/plain": [
              "173846"
            ]
          },
          "metadata": {},
          "execution_count": 10
        }
      ]
    },
    {
      "cell_type": "code",
      "source": [
        "# Set size parameters for model construction later on\n",
        "\n",
        "vocab_size = 500000  # Example vocabulary size\n",
        "embed_dim = 300      # Embedding size\n",
        "hidden_dim = 500     # LSTM hidden state size\n",
        "n_layers = 1         # No of layers"
      ],
      "metadata": {
        "id": "USdma6aIbTag"
      },
      "execution_count": 11,
      "outputs": []
    },
    {
      "cell_type": "markdown",
      "source": [
        "## Training LSTM\n",
        "\n",
        "This depends to a large extent on the code from a [seminar](https://github.com/girafe-ai/ml-course/blob/master/week0_09_embeddings_and_seq2seq/week09_seq2seq_rnn_practice_solved.ipynb) of the giraffe-ai Basic ML course"
      ],
      "metadata": {
        "id": "IeW1TJj7bgdm"
      }
    },
    {
      "cell_type": "code",
      "source": [
        "# Extract list of all sections from pickled file\n",
        "import pickle\n",
        "\n",
        "with open('doc_texts.txt', 'rb') as dumpfile:\n",
        "  texts = pickle.load(dumpfile)\n",
        "\n",
        "# Many empty strings - parsing artifact\n",
        "texts = list(filter(lambda x: x != '', texts))\n",
        "\n",
        "# Use sentences as sequences\n",
        "sentences = []\n",
        "for par in texts:\n",
        "  sentences += [sent.text for sent in razdel.sentenize(par)]\n",
        "texts = sentences"
      ],
      "metadata": {
        "id": "Hg9NHwc5chY9"
      },
      "execution_count": 104,
      "outputs": []
    },
    {
      "cell_type": "code",
      "source": [
        "import torch\n",
        "import torch.nn as nn\n",
        "\n",
        "from slovnet.model.emb import NavecEmbedding # Inherits nn.Embedding\n",
        "import numpy as np"
      ],
      "metadata": {
        "id": "WPXzdJaJHIVe"
      },
      "execution_count": 105,
      "outputs": []
    },
    {
      "cell_type": "code",
      "source": [
        "# Check consistency\n",
        "navec_emb = NavecEmbedding(navec)\n",
        "assert(np.all(\n",
        "    navec['кожевенник'] == navec_emb(torch.tensor(navec.vocab['кожевенник'])).numpy()\n",
        "))\n",
        "print('Layer produces same embeddings from a token as does the dictionary from the corresponding string')"
      ],
      "metadata": {
        "colab": {
          "base_uri": "https://localhost:8080/"
        },
        "id": "n2DkbjQiteRR",
        "outputId": "a3bee47b-5a10-40dc-d12e-4f23bcb3e104"
      },
      "execution_count": 106,
      "outputs": [
        {
          "output_type": "stream",
          "name": "stdout",
          "text": [
            "Layer produces same embeddings from a token as does the dictionary from the corresponding string\n"
          ]
        }
      ]
    },
    {
      "cell_type": "code",
      "source": [
        "class LSTMRegressor(nn.Module):\n",
        "    def __init__(self, navec, vocab_size, embed_size, rnn_num_units=300):\n",
        "        super(self.__class__,self).__init__()\n",
        "        self.num_units = rnn_num_units\n",
        "\n",
        "        self.embedding = NavecEmbedding(navec)\n",
        "        self.rnn_update = nn.Linear(embed_size + rnn_num_units, rnn_num_units)\n",
        "        self.rnn_to_embedding = nn.Linear(rnn_num_units, embed_size)\n",
        "\n",
        "    def forward(self, x, h_prev):\n",
        "        \"\"\"\n",
        "        This method computes h_next(x, h_prev) and log P(x_next | h_next)\n",
        "        We'll call it repeatedly to produce the whole sequence.\n",
        "\n",
        "        :param x: batch of word embeddings, each containing\n",
        "        :param h_prev: previous rnn hidden states, containing matrix [batch, rnn_num_units] of float32\n",
        "        \"\"\"\n",
        "        x_emb = self.embedding(x)\n",
        "\n",
        "        x_and_h = torch.cat([x_emb, h_prev], dim=1) #YOUR CODE HERE\n",
        "        h_next = self.rnn_update(x_and_h)\n",
        "\n",
        "        h_next = torch.tanh(h_next) #YOUR CODE HERE\n",
        "\n",
        "        assert h_next.size() == h_prev.size()\n",
        "\n",
        "        # compute output embedding\n",
        "        emb = self.rnn_to_embedding(h_next) #YOUR CODE\n",
        "\n",
        "        return h_next, emb\n",
        "\n",
        "    def initial_state(self, batch_size):\n",
        "        \"\"\" return rnn state before it processes first input (aka h0) \"\"\"\n",
        "        return torch.zeros(batch_size, self.num_units, requires_grad=True)"
      ],
      "metadata": {
        "id": "6dzxmG3O6Kwp"
      },
      "execution_count": 139,
      "outputs": []
    },
    {
      "cell_type": "code",
      "source": [
        "model = LSTMRegressor(navec, vocab_size, embed_dim)"
      ],
      "metadata": {
        "id": "HyPea8zY-iqs"
      },
      "execution_count": 174,
      "outputs": []
    },
    {
      "cell_type": "code",
      "source": [
        "def tokenize_filter(seqs):\n",
        "  seqs = [txt.lower() for txt in seqs]\n",
        "  token_seq = []\n",
        "  for txt in seqs:\n",
        "    token_seq.append([tkn.text for tkn in razdel.tokenize(txt) if tkn.text in navec])\n",
        "  return token_seq"
      ],
      "metadata": {
        "id": "Imus9-oj8A4N"
      },
      "execution_count": 175,
      "outputs": []
    },
    {
      "cell_type": "code",
      "source": [
        "import string\n",
        "\n",
        "def to_matrix(\n",
        "    seqs, max_len=None, pad=navec['<pad>'], dtype='int32', batch_first=True\n",
        "    ):\n",
        "    \"\"\"Casts a list of sequences into rnn-digestable matrix\"\"\"\n",
        "\n",
        "    sequences = tokenize_filter(seqs)\n",
        "\n",
        "    max_len = max_len or max(map(len, sequences))\n",
        "    max_len += 1\n",
        "    seqs_ix = np.zeros([len(seqs), max_len, embed_dim], dtype) + pad\n",
        "    seqs_ix[:, 0, :] = navec['сос'] # <SOS> - a word we will never see in the corpus\n",
        "\n",
        "    for i in range(len(seqs)):\n",
        "        line_ix = [navec[c] for c in sequences[i]]\n",
        "        # print(seqs_ix.shape, np.shape(line_ix))\n",
        "        seqs_ix[i, 1:len(line_ix), :] = line_ix[1:]\n",
        "        seqs_ix[i, len(line_ix), :] = navec['сас'] # <EOS> - a word we will never see in the corpus\n",
        "\n",
        "\n",
        "    if not batch_first: # convert [batch, time] into [time, batch]\n",
        "        seqs_ix = np.transpose(seqs_ix)\n",
        "\n",
        "    # Additionally, prepare token matrix\n",
        "    sequences = [seq + ['<pad>'] * (max_len - len(seq)) for seq in sequences]\n",
        "    toks_ix = np.array([[navec.vocab[wrd] for wrd in seq] for seq in sequences])\n",
        "\n",
        "    #print(seqs_ix.shape, toks_ix.shape, '\\n\\n')\n",
        "\n",
        "    return seqs_ix, toks_ix"
      ],
      "metadata": {
        "id": "PXKbxda21uC7"
      },
      "execution_count": 176,
      "outputs": []
    },
    {
      "cell_type": "code",
      "source": [
        "def rnn_loop(char_rnn, batch_ix, tok_batch):\n",
        "    \"\"\"\n",
        "    Computes log P(next_character) for all time-steps in names_ix\n",
        "    :param names_ix: an int32 matrix of shape [batch, time], output of to_matrix(names)\n",
        "    \"\"\"\n",
        "    batch_size, max_length, _ = batch_ix.size()\n",
        "    hid_state = char_rnn.initial_state(batch_size)\n",
        "    logits = []\n",
        "\n",
        "    for x_t in tok_batch.transpose():\n",
        "        #print(x_t.shape)\n",
        "        hid_state, logits_next = char_rnn(x_t, hid_state)  # <-- here we call your one-step code\n",
        "        logits.append(logits_next)\n",
        "\n",
        "    return torch.stack(logits, dim=1)"
      ],
      "metadata": {
        "id": "lzfeIObWkJkT"
      },
      "execution_count": 177,
      "outputs": []
    },
    {
      "cell_type": "code",
      "source": [
        "import torch.optim as optim\n",
        "\n",
        "num_epochs = 1000\n",
        "\n",
        "#opt = optim.Adam(model.parameters(), lr=0.05)\n",
        "opt = optim.SGD(model.parameters(), lr=0.005, momentum=0.7)\n",
        "loss_func = nn.CosineEmbeddingLoss()\n",
        "\n",
        "history = []"
      ],
      "metadata": {
        "id": "24lLL-iL-jHV"
      },
      "execution_count": 199,
      "outputs": []
    },
    {
      "cell_type": "code",
      "source": [
        "from tqdm import tqdm\n",
        "import matplotlib.pyplot as plt\n",
        "from IPython.display import clear_output\n",
        "from random import sample"
      ],
      "metadata": {
        "id": "z48crDwcbORR"
      },
      "execution_count": 200,
      "outputs": []
    },
    {
      "cell_type": "code",
      "source": [
        "len(texts)"
      ],
      "metadata": {
        "colab": {
          "base_uri": "https://localhost:8080/"
        },
        "id": "304-PjJ21Wn5",
        "outputId": "9b55b10e-450a-417d-b985-a7dcfff43f17"
      },
      "execution_count": 201,
      "outputs": [
        {
          "output_type": "execute_result",
          "data": {
            "text/plain": [
              "2341"
            ]
          },
          "metadata": {},
          "execution_count": 201
        }
      ]
    },
    {
      "cell_type": "code",
      "source": [
        "for epoch in tqdm(range(num_epochs)):\n",
        "    # Plot dynamic loss value\n",
        "    if (epoch+1)%100==0:\n",
        "          clear_output(True)\n",
        "          plt.plot(history,label='loss')\n",
        "          plt.legend()\n",
        "          plt.show()\n",
        "    try:\n",
        "      batch_ix, tok_batch = to_matrix(sample(texts, 32))\n",
        "    except ValueError:\n",
        "      continue\n",
        "    batch_ix = torch.tensor(batch_ix, dtype=torch.int64)\n",
        "\n",
        "    embedding_seq = rnn_loop(model, batch_ix, tok_batch)\n",
        "    batch_size, max_length, _ = batch_ix.size()\n",
        "\n",
        "    # compute loss\n",
        "    #<YOUR CODE>\n",
        "    predictions_embeddings = embedding_seq[:, :-1, :]\n",
        "    actual_next_embeddings = batch_ix[:, 1:, :]\n",
        "    cos_sim_targets = torch.ones(batch_size * (max_length -1))\n",
        "\n",
        "    loss = loss_func(\n",
        "    predictions_embeddings.reshape((-1, embed_dim)),\n",
        "    actual_next_embeddings.reshape((-1, embed_dim)),\n",
        "    cos_sim_targets\n",
        "    )\n",
        "    loss.backward()\n",
        "    opt.step()\n",
        "\n",
        "    opt.zero_grad()\n",
        "\n",
        "    history.append(loss.data.numpy())\n",
        "\n",
        "assert np.mean(history[:10]) > np.mean(history[-10:]), \"RNN didn't converge.\""
      ],
      "metadata": {
        "colab": {
          "base_uri": "https://localhost:8080/",
          "height": 467
        },
        "id": "y8VqhJb-354-",
        "outputId": "d24613f1-c516-4977-a9bf-33d103fa1fc7"
      },
      "execution_count": 202,
      "outputs": [
        {
          "output_type": "display_data",
          "data": {
            "text/plain": [
              "<Figure size 640x480 with 1 Axes>"
            ],
            "image/png": "[encoded data removed]"
          },
          "metadata": {}
        },
        {
          "output_type": "stream",
          "name": "stderr",
          "text": [
            "100%|██████████| 1000/1000 [02:20<00:00,  7.13it/s]\n"
          ]
        }
      ]
    },
    {
      "cell_type": "code",
      "source": [
        "from navec import vocab\n",
        "from navec.tar import Tar\n",
        "VOCAB = 'vocab.bin'\n",
        "with Tar('navec_hudlit_v1_12B_500K_300d_100q.tar') as tar:\n",
        "  voc = vocab.Vocab.from_file(tar.load(VOCAB))"
      ],
      "metadata": {
        "id": "_-oFAYShmkIC"
      },
      "execution_count": null,
      "outputs": []
    }
  ]
}